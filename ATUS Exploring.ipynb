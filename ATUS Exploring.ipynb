{
 "cells": [
  {
   "cell_type": "code",
   "execution_count": 1,
   "metadata": {
    "collapsed": true
   },
   "outputs": [],
   "source": [
    "import pandas as pd\n",
    "import re"
   ]
  },
  {
   "cell_type": "code",
   "execution_count": 2,
   "metadata": {
    "collapsed": true
   },
   "outputs": [],
   "source": [
    "import matplotlib.pyplot as plt"
   ]
  },
  {
   "cell_type": "code",
   "execution_count": 3,
   "metadata": {
    "collapsed": true
   },
   "outputs": [],
   "source": [
    "%matplotlib inline"
   ]
  },
  {
   "cell_type": "raw",
   "metadata": {},
   "source": [
    "1 = male, 2 = female\n",
    "\n",
    "Value Description\n",
    "-1 Blank\n",
    "-2 Don’t know\n",
    "-3 Refused "
   ]
  },
  {
   "cell_type": "code",
   "execution_count": 89,
   "metadata": {
    "collapsed": false
   },
   "outputs": [
    {
     "data": {
      "text/plain": [
       "Index(['TEMJOT', 'TRDPFTPT', 'TESCHENR', 'TESCHLVL', 'TRSPPRES', 'TESPEMPNOT',\n",
       "       'TRERNWA', 'num_children', 'TRSPFTPT', 'TEHRUSLT'],\n",
       "      dtype='object')"
      ]
     },
     "execution_count": 89,
     "metadata": {},
     "output_type": "execute_result"
    }
   ],
   "source": [
    "summary = pd.read_csv(\"atusdata/atussum_2013.dat\")\n",
    "summary.head()\n",
    "summary = summary.rename(columns={\"tucaseid\": \"id\", \"TUFINLWGT\": \"weight\", \"TEAGE\": \"age\", \"TESEX\": \"sex\", \"TELFS\": \"working_status\", \"TRYHHCHILD\": \"age_y_child\", \"TRCHILDNUM\": \"num_children\"})\n",
    "summary.columns[10:20]"
   ]
  },
  {
   "cell_type": "code",
   "execution_count": 90,
   "metadata": {
    "collapsed": true
   },
   "outputs": [],
   "source": [
    "def average_minutes(data, activity_code):\n",
    "    activity_col = \"t{}\".format(activity_code)\n",
    "    data = data[['weight', activity_col]]\n",
    "    data = data.rename(columns={activity_col: \"minutes\"})\n",
    "    data['weighted_minutes'] = data.weight * data.minutes\n",
    "    return data.weighted_minutes.sum() / data.weight.sum()"
   ]
  },
  {
   "cell_type": "code",
   "execution_count": 91,
   "metadata": {
    "collapsed": false
   },
   "outputs": [
    {
     "data": {
      "text/plain": [
       "0.24096419699939733"
      ]
     },
     "execution_count": 91,
     "metadata": {},
     "output_type": "execute_result"
    }
   ],
   "source": [
    "# avg. minutes spent writing for personal enjoyment\n",
    "average_minutes(summary, \"120313\")"
   ]
  },
  {
   "cell_type": "code",
   "execution_count": 92,
   "metadata": {
    "collapsed": true
   },
   "outputs": [],
   "source": [
    "#tools\n",
    "#to_frame()"
   ]
  },
  {
   "cell_type": "code",
   "execution_count": 93,
   "metadata": {
    "collapsed": false
   },
   "outputs": [],
   "source": [
    "#People who reported writing for personal enjoyment\n",
    "writers = summary[summary.t120313 > 0]"
   ]
  },
  {
   "cell_type": "code",
   "execution_count": 123,
   "metadata": {
    "collapsed": false
   },
   "outputs": [
    {
     "data": {
      "text/plain": [
       "129.55103142238858"
      ]
     },
     "execution_count": 123,
     "metadata": {},
     "output_type": "execute_result"
    }
   ],
   "source": [
    "#for people who wrote - average minutes doing so\n",
    "average_minutes(writing_data, \"120313\")\n",
    "#wow, very high"
   ]
  },
  {
   "cell_type": "code",
   "execution_count": 95,
   "metadata": {
    "collapsed": false
   },
   "outputs": [
    {
     "name": "stdout",
     "output_type": "stream",
     "text": [
      "25 people out of 11385 reported writing. That's 0.21958717610891526%.\n"
     ]
    }
   ],
   "source": [
    "#how many people out of total is this?\n",
    "a = len(writers)\n",
    "b = len(summary)\n",
    "c = len(writers) / len(summary) * 100\n",
    "print(\"{} people out of {} reported writing. That's {}%.\".format(a, b, c))"
   ]
  },
  {
   "cell_type": "code",
   "execution_count": 96,
   "metadata": {
    "collapsed": false
   },
   "outputs": [
    {
     "name": "stdout",
     "output_type": "stream",
     "text": [
      "29 people out of 11385 reported writing. That's 0.25472112428634164%.\n"
     ]
    }
   ],
   "source": [
    "hunting_time = average_minutes(summary, \"130118\")\n",
    "hunters = summary[summary.t130118 > 0]\n",
    "a = len(hunters)\n",
    "b = len(summary)\n",
    "c = len(hunters) / len(summary) * 100\n",
    "print(\"{} people out of {} reported writing. That's {}%.\".format(a, b, c))"
   ]
  },
  {
   "cell_type": "code",
   "execution_count": 97,
   "metadata": {
    "collapsed": true
   },
   "outputs": [],
   "source": [
    "# hunters vs. people writing for personal enjoyment"
   ]
  },
  {
   "cell_type": "code",
   "execution_count": 98,
   "metadata": {
    "collapsed": false
   },
   "outputs": [
    {
     "name": "stdout",
     "output_type": "stream",
     "text": [
      "Avg. hunter age: 39.9\n",
      "Avg. writer age: 54.1\n"
     ]
    }
   ],
   "source": [
    "# average age \n",
    "print(\"Avg. hunter age: {}\".format(hunters.age.mean().round(1)))\n",
    "print(\"Avg. writer age: {}\".format(writers.age.mean().round(1)))"
   ]
  },
  {
   "cell_type": "code",
   "execution_count": 116,
   "metadata": {
    "collapsed": false
   },
   "outputs": [
    {
     "name": "stdout",
     "output_type": "stream",
     "text": [
      "26\n",
      "3\n"
     ]
    }
   ],
   "source": [
    "# count gender hunters\n",
    "print(len(hunters[hunters.sex == 1]))\n",
    "print(len(hunters[hunters.sex == 2]))"
   ]
  },
  {
   "cell_type": "code",
   "execution_count": 118,
   "metadata": {
    "collapsed": false
   },
   "outputs": [
    {
     "name": "stdout",
     "output_type": "stream",
     "text": [
      "11\n",
      "14\n"
     ]
    }
   ],
   "source": [
    "# count gender writers\n",
    "print(len(writers[writers.sex == 1]))\n",
    "print(len(writers[writers.sex == 2]))"
   ]
  },
  {
   "cell_type": "code",
   "execution_count": null,
   "metadata": {
    "collapsed": true
   },
   "outputs": [],
   "source": [
    "#number of people who both hunted and wrote\n"
   ]
  }
 ],
 "metadata": {
  "kernelspec": {
   "display_name": "Python 3",
   "language": "python",
   "name": "python3"
  },
  "language_info": {
   "codemirror_mode": {
    "name": "ipython",
    "version": 3
   },
   "file_extension": ".py",
   "mimetype": "text/x-python",
   "name": "python",
   "nbconvert_exporter": "python",
   "pygments_lexer": "ipython3",
   "version": "3.5.0"
  }
 },
 "nbformat": 4,
 "nbformat_minor": 0
}
